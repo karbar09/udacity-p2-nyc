{
 "cells": [
  {
   "cell_type": "markdown",
   "metadata": {},
   "source": [
    "# NYC Subway Ridership - P2\n",
    "## Karthik Rajasethupathy\n",
    "### karbar09@gmail.com"
   ]
  },
  {
   "cell_type": "code",
   "execution_count": 1,
   "metadata": {
    "collapsed": false
   },
   "outputs": [
    {
     "name": "stdout",
     "output_type": "stream",
     "text": [
      "Populating the interactive namespace from numpy and matplotlib\n"
     ]
    }
   ],
   "source": [
    "%pylab inline\n",
    "import pandas\n",
    "import numpy\n",
    "import pandasql\n",
    "from ggplot import *\n",
    "np.random.seed(10)\n",
    "df = pandas.read_csv('improved-dataset/turnstile_weather_v2.csv')"
   ]
  },
  {
   "cell_type": "code",
   "execution_count": 2,
   "metadata": {
    "collapsed": false
   },
   "outputs": [
    {
     "name": "stdout",
     "output_type": "stream",
     "text": [
      "Rain:  2028.2 939.0 9585\n",
      "Not Rain:  1845.54 893.0 33064\n",
      "\n",
      "count    False\n",
      "mean      True\n",
      "std       True\n",
      "min      False\n",
      "25%       True\n",
      "50%       True\n",
      "75%       True\n",
      "max      False\n",
      "Name: ENTRIESn_hourly, dtype: bool\n"
     ]
    }
   ],
   "source": [
    "#Preprocessing:\n",
    "\n",
    "#1 Split data set on rain vs. not rain, and extract the column of interest ENTRIESn_hourly\n",
    "rain = df[df.rain == 1]['ENTRIESn_hourly']\n",
    "not_rain = df[df.rain == 0]['ENTRIESn_hourly']\n",
    "#2 Descriptive Statistics\n",
    "print \"Rain: \",round(np.mean(rain),2), np.median(rain), len(rain)\n",
    "print \"Not Rain: \",round(np.mean(not_rain),2),np.median(not_rain), len(not_rain)\n",
    "print \n",
    "print rain.describe() > not_rain.describe()\n",
    "\n",
    "#The mean entries during rain are quite a bit higher, but the standard deviation is higher as well. \n",
    "#At each quartile (25/50-median/75), ENTRIESn_hourly are higher in the the rain versus no rain. The effect of outliers\n",
    "#influences the mean/std, but has less influence over quartiles (including the median). So, we see that the median \n",
    "#ENTRIESn_hourly is higher during rain.\n"
   ]
  },
  {
   "cell_type": "code",
   "execution_count": 84,
   "metadata": {
    "collapsed": false
   },
   "outputs": [
    {
     "name": "stdout",
     "output_type": "stream",
     "text": [
      "Shapiro Wilks: Rain 0.593882083893 0.0\n",
      "Shapiro Wilks: Rain 0.595618069172 0.0\n",
      "Mann Whitney U (Two Tailed): Rain, Not Rain 153635120.5 5.48213914249e-06\n"
     ]
    }
   ],
   "source": [
    "#Section 1. Statistical Test Code\n",
    "\n",
    "from scipy.stats import ttest_ind,shapiro,mannwhitneyu\n",
    "\n",
    "#Shapiro test for normality - Neither sample is normal\n",
    "#H0 - samples are normal\n",
    "#HA - samples are not normal\n",
    "#In both cases, reject null hypothesis: both p-values <.001\n",
    "s1,s_p1 = shapiro(rain)\n",
    "s2,s_p2 = shapiro(not_rain)\n",
    "\n",
    "#Two-Tailed Mann Whitney U test to see whether the samples come from the same distribution\n",
    "#Suppose r, nr are randomly drawn from the Rain, Not Rain populations respectively, then:\n",
    "#H0: P(r>nr)=0.5\n",
    "#HA: P(r>nr)!=0.5\n",
    "#Reject null hypothesis: p-value <.05\n",
    "U,u_p = mannwhitneyu(rain,not_rain)\n",
    "#IMPORTANT the p value is doubled from the MWU test, as the scipy documentation states \n",
    "#that this function returns a 1 sided p-value\n",
    "u_p_doubled = u_p *2 \n",
    "\n",
    "\n",
    "print \"Shapiro Wilks: Rain\", s1,s_p1\n",
    "print \"Shapiro Wilks: Rain\", s2,s_p2\n",
    "print \"Mann Whitney U (Two Tailed): Rain, Not Rain\", U, u_p_doubled #\n"
   ]
  },
  {
   "cell_type": "markdown",
   "metadata": {},
   "source": [
    "###Section 1. Statistical Test Responses\n",
    "\n",
    "**Which statistical test did you use to analyze the NYC subway data? Did you use a one-tail or a two-tail P value? What is the null hypothesis? What is your p-critical value?**\n",
    "\n",
    "I used two-tailed Mann Whitney U Test to analyze the NYC subway data. Given random draws r,nr from populations Rain, Not Rain respectively, the Null Hypothesis states:\n",
    "\n",
    "- HO: P(r>nr)=0.5 - This is a test of whether or not one distribution is likely to generate a higher value than the other (From the Udacity Mann Whitney U docs. See **References section** for link)\n",
    "\n",
    "Therefore, the two sided alternative hypothesis is:\n",
    "\n",
    "- HA: P(r>nr)!= 0.5\n",
    "\n",
    "I set p-critical value of alpha = .05 for this test.\n",
    "\n",
    "**Why is this statistical test applicable to the dataset? In particular, consider the assumptions that the test is making about the distribution of ridership in the two samples.**\n",
    "\n",
    "- The Mann Whitney U test is a non-parametric test that is applicable to the dataset because the distributions of ridership under the rain/no-rain conditions follow a non-normal distribution.\n",
    "- To statistically validate the conclusion above, i ran a shapiro wilks test on each of the two conditions: rain/not-rain, and received p-values < .001 for both data sets, thereby rejecting the null hyothesis that each sample is drawn from a normal distribution\n",
    "- Therefore, the Mann Whitney U test is applicable to our dataset because it does not assume that our data is drawn from any particular underlying distribution.\n",
    "\n",
    "**What results did you get from this statistical test? These should include the following numerical values: p-values, as well as the means for each of the two samples under test.**\n",
    "\n",
    "Results from this test: \n",
    "\n",
    "- U statistic  = 153635120.5, two tailed p value (the p value returned by the mwu test in scipy is 1 tailed) = 5.48213914249e-06\n",
    "- rain_mean ~= 2028, not_rain_mean ~= 1845\n",
    "- rain_median ~= 939, not_rain_median ~= 893\n",
    "\n",
    "**What is the significance and interpretation of these results?**\n",
    "\n",
    "- The descriptive statistics (mean, median) supplement our underlying belief that ridership is higher during rain, but, the Mann-Whitney U test doesnt make a statement about this. However, given the p-value <.0001, it says that probability that the two samples are the same given this data is very very low. So, we can reject this null hypothesis at the alpha = .05 level. These samples are not the same, and combined with our descriptive statistics, we know that the mean/median for the rain data are higher than that of the not_rain data."
   ]
  },
  {
   "cell_type": "code",
   "execution_count": 35,
   "metadata": {
    "collapsed": false
   },
   "outputs": [
    {
     "name": "stdout",
     "output_type": "stream",
     "text": [
      "                            OLS Regression Results                            \n",
      "==============================================================================\n",
      "Dep. Variable:                      y   R-squared:                       0.541\n",
      "Model:                            OLS   Adj. R-squared:                  0.538\n",
      "Method:                 Least Squares   F-statistic:                     202.9\n",
      "Date:                Sat, 08 Aug 2015   Prob (F-statistic):               0.00\n",
      "Time:                        15:39:07   Log-Likelihood:            -3.8470e+05\n",
      "No. Observations:               42649   AIC:                         7.699e+05\n",
      "Df Residuals:                   42402   BIC:                         7.720e+05\n",
      "Df Model:                         246                                         \n",
      "Covariance Type:            nonrobust                                         \n",
      "==============================================================================\n",
      "                 coef    std err          t      P>|t|      [95.0% Conf. Int.]\n",
      "------------------------------------------------------------------------------\n",
      "const       1886.5900      9.717    194.163      0.000      1867.545  1905.635\n",
      "x1            16.9541      9.806      1.729      0.084        -2.265    36.173\n",
      "x2            13.8924     13.694      1.015      0.310       -12.948    40.733\n",
      "x3            37.8278     13.834      2.734      0.006        10.712    64.943\n",
      "x4            36.8963     13.774      2.679      0.007         9.898    63.894\n",
      "x5            49.2231     13.934      3.532      0.000        21.911    76.535\n",
      "x6            24.8755     13.734      1.811      0.070        -2.044    51.795\n",
      "x7            24.5333     13.714      1.789      0.074        -2.346    51.413\n",
      "x8            24.8851     13.834      1.799      0.072        -2.231    52.001\n",
      "x9           489.2951     14.013     34.917      0.000       461.829   516.761\n",
      "x10          581.1936     14.053     41.359      0.000       553.650   608.737\n",
      "x11          179.1309     14.053     12.747      0.000       151.588   206.674\n",
      "x12           58.7060     14.013      4.189      0.000        31.240    86.172\n",
      "x13          285.5511     14.053     20.320      0.000       258.008   313.094\n",
      "x14          520.3379     14.033     37.080      0.000       492.833   547.843\n",
      "x15          223.2073     14.053     15.884      0.000       195.664   250.751\n",
      "x16          428.9452     14.053     30.524      0.000       401.402   456.489\n",
      "x17          315.9000     14.013     22.543      0.000       288.434   343.366\n",
      "x18          636.1452     14.053     45.269      0.000       608.602   663.688\n",
      "x19          414.4199     14.053     29.491      0.000       386.877   441.963\n",
      "x20          220.0609     14.033     15.682      0.000       192.556   247.566\n",
      "x21          361.3822     14.053     25.716      0.000       333.839   388.926\n",
      "x22          204.5069     14.053     14.553      0.000       176.964   232.050\n",
      "x23          485.3499     14.053     34.538      0.000       457.807   512.893\n",
      "x24          213.2160     14.053     15.173      0.000       185.673   240.759\n",
      "x25          295.7014     14.053     21.043      0.000       268.158   323.245\n",
      "x26          301.0740     14.033     21.455      0.000       273.569   328.579\n",
      "x27          551.5727     14.053     39.251      0.000       524.029   579.116\n",
      "x28           78.9794     13.734      5.751      0.000        52.060   105.899\n",
      "x29          192.0657     14.013     13.706      0.000       164.600   219.532\n",
      "x30           55.3590     13.874      3.990      0.000        28.165    82.553\n",
      "x31           64.3743     13.993      4.600      0.000        36.947    91.802\n",
      "x32           20.8744     13.834      1.509      0.131        -6.241    47.990\n",
      "x33           53.9061     13.654      3.948      0.000        27.145    80.667\n",
      "x34           90.9352     14.013      6.489      0.000        63.469   118.401\n",
      "x35          213.2036     14.053     15.172      0.000       185.660   240.747\n",
      "x36           46.4627     13.934      3.335      0.001        19.152    73.773\n",
      "x37          199.1768     14.053     14.174      0.000       171.634   226.720\n",
      "x38          317.2219     14.053     22.574      0.000       289.679   344.765\n",
      "x39          558.8230     14.053     39.767      0.000       531.280   586.366\n",
      "x40          191.6432     14.053     13.638      0.000       164.100   219.187\n",
      "x41          272.8927     14.013     19.474      0.000       245.427   300.359\n",
      "x42          347.2704     14.053     24.712      0.000       319.727   374.814\n",
      "x43           84.6736     13.774      6.147      0.000        57.676   111.671\n",
      "x44          217.0498     14.013     15.489      0.000       189.584   244.516\n",
      "x45          104.4843     14.013      7.456      0.000        77.018   131.950\n",
      "x46          558.7128     14.053     39.759      0.000       531.169   586.256\n",
      "x47          103.4573     14.013      7.383      0.000        75.991   130.923\n",
      "x48          330.6903     14.053     23.532      0.000       303.147   358.234\n",
      "x49           51.0655     14.033      3.639      0.000        23.561    78.570\n",
      "x50           84.6179     13.874      6.099      0.000        57.424   111.812\n",
      "x51           59.8093     13.934      4.292      0.000        32.499    87.120\n",
      "x52           44.7741     13.674      3.274      0.001        17.973    71.575\n",
      "x53          189.2703     14.053     13.469      0.000       161.727   216.814\n",
      "x54           78.5285     13.694      5.735      0.000        51.688   105.369\n",
      "x55           61.9152     13.854      4.469      0.000        34.760    89.070\n",
      "x56           60.9406     13.774      4.424      0.000        33.943    87.938\n",
      "x57           22.4032     13.734      1.631      0.103        -4.516    49.322\n",
      "x58           61.2641     13.674      4.480      0.000        34.463    88.065\n",
      "x59           36.2268     13.674      2.649      0.008         9.426    63.028\n",
      "x60           67.8847     13.794      4.921      0.000        40.848    94.922\n",
      "x61          126.7344     14.053      9.019      0.000        99.191   154.278\n",
      "x62          246.9487     14.053     17.573      0.000       219.405   274.492\n",
      "x63          242.4574     14.013     17.302      0.000       214.991   269.924\n",
      "x64          107.3555     14.013      7.661      0.000        79.890   134.821\n",
      "x65          214.9506     14.053     15.296      0.000       187.407   242.494\n",
      "x66          669.9082     14.053     47.672      0.000       642.365   697.452\n",
      "x67          179.9599     14.013     12.842      0.000       152.494   207.426\n",
      "x68          180.2628     14.053     12.828      0.000       152.719   207.806\n",
      "x69           88.6073     13.974      6.341      0.000        61.219   115.996\n",
      "x70           42.5690     14.013      3.038      0.002        15.103    70.035\n",
      "x71           34.3439     13.674      2.512      0.012         7.543    61.145\n",
      "x72           79.4782     13.734      5.787      0.000        52.559   106.398\n",
      "x73          137.2005     13.854      9.903      0.000       110.045   164.356\n",
      "x74          138.3920     13.815     10.018      0.000       111.315   165.469\n",
      "x75          125.3229     14.013      8.943      0.000        97.857   152.789\n",
      "x76          150.8611     13.954     10.811      0.000       123.511   178.211\n",
      "x77          164.6723     14.033     11.735      0.000       137.168   192.177\n",
      "x78          205.4832     14.033     14.643      0.000       177.979   232.988\n",
      "x79          129.8241     14.053      9.238      0.000       102.281   157.367\n",
      "x80          166.5294     14.053     11.850      0.000       138.986   194.073\n",
      "x81           46.3082     13.974      3.314      0.001        18.919    73.697\n",
      "x82          195.1537     14.053     13.887      0.000       167.610   222.697\n",
      "x83          253.7238     14.053     18.055      0.000       226.180   281.267\n",
      "x84           97.5345     13.774      7.081      0.000        70.536   124.533\n",
      "x85           98.3769     14.013      7.020      0.000        70.911   125.843\n",
      "x86          230.6407     14.053     16.413      0.000       203.097   258.184\n",
      "x87           75.3773     13.674      5.513      0.000        48.577   102.178\n",
      "x88           38.2602     13.654      2.802      0.005        11.499    65.021\n",
      "x89          355.1275     14.053     25.271      0.000       327.584   382.671\n",
      "x90          223.1478     14.053     15.879      0.000       195.604   250.691\n",
      "x91          121.4089     14.033      8.652      0.000        93.904   148.914\n",
      "x92           69.8497     14.033      4.978      0.000        42.345    97.355\n",
      "x93           94.5465     14.053      6.728      0.000        67.003   122.090\n",
      "x94          221.7735     14.053     15.782      0.000       194.230   249.317\n",
      "x95           64.2524     13.694      4.692      0.000        37.412    91.093\n",
      "x96          130.2554     13.914      9.361      0.000       102.984   157.527\n",
      "x97          106.4698     13.814      7.707      0.000        79.393   133.546\n",
      "x98          103.6443     13.854      7.481      0.000        76.490   130.799\n",
      "x99          178.0782     13.954     12.762      0.000       150.728   205.428\n",
      "x100         115.7972     13.934      8.310      0.000        88.486   143.108\n",
      "x101          50.7187     13.754      3.688      0.000        23.760    77.677\n",
      "x102         133.5999     14.053      9.507      0.000       106.057   161.143\n",
      "x103         327.3782     14.053     23.297      0.000       299.835   354.922\n",
      "x104         172.9570     14.053     12.308      0.000       145.414   200.500\n",
      "x105         177.6036     14.033     12.656      0.000       150.099   205.108\n",
      "x106         230.8904     14.053     16.430      0.000       203.347   258.434\n",
      "x107         136.3994     14.053      9.706      0.000       108.856   163.943\n",
      "x108         458.0184     14.053     32.593      0.000       430.475   485.562\n",
      "x109         124.5893     13.914      8.954      0.000        97.318   151.861\n",
      "x110          56.3796     13.653      4.129      0.000        29.618    83.141\n",
      "x111          72.2996     13.734      5.264      0.000        45.380    99.219\n",
      "x112          81.1203     13.954      5.814      0.000        53.771   108.470\n",
      "x113         164.4915     14.033     11.722      0.000       136.987   191.996\n",
      "x114         100.2370     13.874      7.225      0.000        73.043   127.431\n",
      "x115         140.1188     13.914     10.070      0.000       112.847   167.391\n",
      "x116          98.0701     13.993      7.008      0.000        70.643   125.497\n",
      "x117         149.8576     14.013     10.694      0.000       122.392   177.324\n",
      "x118          57.4198     13.914      4.127      0.000        30.148    84.692\n",
      "x119          80.2944     13.974      5.746      0.000        52.906   107.683\n",
      "x120         157.9350     14.013     11.270      0.000       130.469   185.401\n",
      "x121         123.3943     13.834      8.919      0.000        96.279   150.510\n",
      "x122         107.5044     14.053      7.650      0.000        79.961   135.048\n",
      "x123         110.2757     13.974      7.892      0.000        82.887   137.664\n",
      "x124         143.2850     14.033     10.211      0.000       115.780   170.790\n",
      "x125         175.4717     13.974     12.557      0.000       148.083   202.860\n",
      "x126          58.8861     13.694      4.300      0.000        32.046    85.726\n",
      "x127          45.1990     13.874      3.258      0.001        18.005    72.393\n",
      "x128         170.5943     14.053     12.140      0.000       143.051   198.138\n",
      "x129         122.8573     14.033      8.755      0.000        95.353   150.362\n",
      "x130          85.5006     13.894      6.154      0.000        58.268   112.733\n",
      "x131          50.9129     13.674      3.723      0.000        24.112    77.714\n",
      "x132         116.4956     14.013      8.313      0.000        89.029   143.962\n",
      "x133          62.0637     14.013      4.429      0.000        34.598    89.530\n",
      "x134          72.1227     13.694      5.267      0.000        45.282    98.963\n",
      "x135         142.6239     14.033     10.164      0.000       115.119   170.129\n",
      "x136          95.0631     14.013      6.784      0.000        67.597   122.529\n",
      "x137         109.6233     14.053      7.801      0.000        82.080   137.167\n",
      "x138          97.2141     13.674      7.110      0.000        70.413   124.015\n",
      "x139         151.7879     14.033     10.817      0.000       124.283   179.293\n",
      "x140          57.5083     13.854      4.151      0.000        30.354    84.663\n",
      "x141          48.9573     13.954      3.509      0.000        21.608    76.307\n",
      "x142          55.6075     13.734      4.049      0.000        28.688    82.527\n",
      "x143          84.5347     14.053      6.016      0.000        56.991   112.078\n",
      "x144          81.0119     13.714      5.907      0.000        54.132   107.892\n",
      "x145          46.0453     13.754      3.348      0.001        19.087    73.004\n",
      "x146          43.9403     13.834      3.176      0.001        16.825    71.056\n",
      "x147          74.3557     13.954      5.329      0.000        47.006   101.705\n",
      "x148          74.8270     13.774      5.432      0.000        47.829   101.825\n",
      "x149          77.9009     13.633      5.714      0.000        51.179   104.622\n",
      "x150          28.7722     13.694      2.101      0.036         1.932    55.612\n",
      "x151         181.0634     14.033     12.903      0.000       153.559   208.568\n",
      "x152         111.3815     13.974      7.971      0.000        83.993   138.770\n",
      "x153          51.2142     13.714      3.734      0.000        24.334    78.094\n",
      "x154         150.6511     14.033     10.736      0.000       123.146   178.156\n",
      "x155          71.1686     14.053      5.064      0.000        43.625    98.712\n",
      "x156         185.5812     13.993     13.262      0.000       158.154   213.008\n",
      "x157          46.4612     13.894      3.344      0.001        19.228    73.694\n",
      "x158          98.2179     13.794      7.120      0.000        71.181   125.255\n",
      "x159         113.9230     13.795      8.258      0.000        86.885   140.961\n",
      "x160          52.4543     13.714      3.825      0.000        25.575    79.334\n",
      "x161          17.6182     13.593      1.296      0.195        -9.024    44.260\n",
      "x162         215.8734     14.033     15.383      0.000       188.369   243.378\n",
      "x163          99.2956     13.934      7.126      0.000        71.985   126.606\n",
      "x164          73.8883     13.894      5.318      0.000        46.655   101.121\n",
      "x165          95.1318     13.993      6.798      0.000        67.705   122.559\n",
      "x166          74.6788     14.013      5.329      0.000        47.213   102.145\n",
      "x167          57.6661     13.775      4.186      0.000        30.667    84.666\n",
      "x168         182.7182     14.033     13.021      0.000       155.213   210.223\n",
      "x169          61.8634     13.974      4.427      0.000        34.475    89.252\n",
      "x170          81.5268     14.013      5.818      0.000        54.061   108.993\n",
      "x171         136.2184     14.053      9.693      0.000       108.675   163.762\n",
      "x172         111.3999     13.993      7.961      0.000        83.973   138.827\n",
      "x173          71.4931     13.934      5.131      0.000        44.182    98.804\n",
      "x174          75.5509     13.450      5.617      0.000        49.189   101.913\n",
      "x175         111.8219     13.874      8.060      0.000        84.628   139.016\n",
      "x176          36.6907     13.593      2.699      0.007        10.049    63.333\n",
      "x177          19.4254     13.894      1.398      0.162        -7.808    46.658\n",
      "x178          43.0035     14.033      3.064      0.002        15.499    70.508\n",
      "x179          64.6827     13.754      4.703      0.000        37.724    91.641\n",
      "x180          71.7775     14.033      5.115      0.000        44.273    99.282\n",
      "x181          69.6012     14.013      4.967      0.000        42.135    97.067\n",
      "x182          39.9893     13.714      2.916      0.004        13.109    66.869\n",
      "x183          32.1338     13.734      2.340      0.019         5.215    59.053\n",
      "x184          94.8195     13.694      6.924      0.000        67.978   121.661\n",
      "x185          70.8379     13.774      5.143      0.000        43.840    97.836\n",
      "x186          68.5603     13.874      4.942      0.000        41.366    95.754\n",
      "x187         104.7559     14.053      7.455      0.000        77.213   132.299\n",
      "x188          34.8786     13.532      2.578      0.010         8.356    61.401\n",
      "x189          32.8355     13.754      2.387      0.017         5.877    59.794\n",
      "x190          60.4725     13.914      4.346      0.000        33.201    87.744\n",
      "x191          48.6759     13.573      3.586      0.000        22.073    75.278\n",
      "x192          94.2017     13.934      6.761      0.000        66.891   121.513\n",
      "x193         115.2137     14.013      8.222      0.000        87.748   142.680\n",
      "x194          62.1209     14.013      4.433      0.000        34.655    89.587\n",
      "x195          45.7611     13.674      3.347      0.001        18.960    72.562\n",
      "x196          42.8403     13.654      3.138      0.002        16.079    69.602\n",
      "x197         130.6679     14.053      9.299      0.000       103.125   158.211\n",
      "x198          70.7209     13.874      5.097      0.000        43.527    97.915\n",
      "x199          42.5240     13.075      3.252      0.001        16.896    68.152\n",
      "x200         157.6233     14.053     11.217      0.000       130.080   185.167\n",
      "x201          90.5708     13.934      6.500      0.000        63.260   117.882\n",
      "x202          82.3931     14.013      5.880      0.000        54.927   109.859\n",
      "x203          29.2558     13.653      2.143      0.032         2.495    56.017\n",
      "x204          59.8115     13.794      4.336      0.000        32.774    86.849\n",
      "x205          61.9082     13.815      4.481      0.000        34.831    88.985\n",
      "x206          90.1130     13.734      6.561      0.000        63.194   117.032\n",
      "x207          34.5492     13.834      2.497      0.013         7.434    61.665\n",
      "x208          32.5076     13.993      2.323      0.020         5.080    59.935\n",
      "x209          10.6123     13.633      0.778      0.436       -16.109    37.334\n",
      "x210          45.9122     13.974      3.286      0.001        18.524    73.301\n",
      "x211          97.2024     13.914      6.986      0.000        69.931   124.474\n",
      "x212          82.6740     14.053      5.883      0.000        55.131   110.217\n",
      "x213         125.1777     13.914      8.996      0.000        97.906   152.450\n",
      "x214          88.9463     13.774      6.457      0.000        61.948   115.944\n",
      "x215          30.8882     13.834      2.233      0.026         3.773    58.004\n",
      "x216          72.8509     13.874      5.251      0.000        45.657   100.045\n",
      "x217          31.2539     13.613      2.296      0.022         4.572    57.936\n",
      "x218           8.5541     13.613      0.628      0.530       -18.128    35.236\n",
      "x219          12.4744     13.694      0.911      0.362       -14.366    39.315\n",
      "x220           4.5963     13.814      0.333      0.739       -22.480    31.673\n",
      "x221          43.4132     13.993      3.102      0.002        15.986    70.841\n",
      "x222          36.8994     13.613      2.711      0.007        10.217    63.581\n",
      "x223          38.3567     13.834      2.773      0.006        11.241    65.472\n",
      "x224          88.7365     13.814      6.423      0.000        61.660   115.813\n",
      "x225          16.5083     13.814      1.195      0.232       -10.568    43.585\n",
      "x226          18.8652     13.674      1.380      0.168        -7.935    45.666\n",
      "x227          78.8779     13.855      5.693      0.000        51.723   106.033\n",
      "x228          21.0046     13.674      1.536      0.125        -5.796    47.805\n",
      "x229          38.8537     13.854      2.804      0.005        11.699    66.008\n",
      "x230          52.1320     13.774      3.785      0.000        25.134    79.130\n",
      "x231          50.7450     13.714      3.700      0.000        23.865    77.625\n",
      "x232          46.9135     13.694      3.426      0.001        20.073    73.754\n",
      "x233          66.5714     13.874      4.798      0.000        39.378    93.765\n",
      "x234          29.0262     13.633      2.129      0.033         2.305    55.748\n",
      "x235          75.3549     13.993      5.385      0.000        47.928   102.782\n",
      "x236         116.3228     13.573      8.570      0.000        89.720   142.926\n",
      "x237          13.3095     13.674      0.973      0.330       -13.491    40.110\n",
      "x238          10.5090     13.694      0.767      0.443       -16.331    37.349\n",
      "x239          22.8965     13.874      1.650      0.099        -4.298    50.091\n",
      "x240           5.6775     11.971      0.474      0.635       -17.786    29.141\n",
      "x241         305.9919     13.284     23.035      0.000       279.956   332.028\n",
      "x242         910.1683     13.269     68.596      0.000       884.161   936.175\n",
      "x243         641.9223     13.257     48.423      0.000       615.939   667.905\n",
      "x244         992.9745     13.272     74.817      0.000       966.961  1018.988\n",
      "x245        -106.7175     13.284     -8.033      0.000      -132.755   -80.680\n",
      "x246        -453.3806      9.807    -46.229      0.000      -472.603  -434.158\n",
      "==============================================================================\n",
      "Omnibus:                    30092.403   Durbin-Watson:                   1.503\n",
      "Prob(Omnibus):                  0.000   Jarque-Bera (JB):          1084742.023\n",
      "Skew:                           2.960   Prob(JB):                         0.00\n",
      "Kurtosis:                      26.987   Cond. No.                         17.4\n",
      "==============================================================================\n",
      "\n",
      "Warnings:\n",
      "[1] Standard Errors assume that the covariance matrix of the errors is correctly specified.\n"
     ]
    }
   ],
   "source": [
    "#2: Prediction - OLS\n",
    "import numpy as np\n",
    "import pandas\n",
    "from sklearn.linear_model import SGDRegressor\n",
    "from sklearn.metrics import r2_score\n",
    "from sklearn import covariance\n",
    "from statsmodels.stats.outliers_influence import *\n",
    "import statsmodels.api as sm\n",
    "linalg = np.linalg\n",
    "\n",
    "\n",
    "def normalize_features(features):\n",
    "    ''' \n",
    "    Returns the means and standard deviations of the given features, along with a normalized feature\n",
    "    matrix.\n",
    "    ''' \n",
    "    means = np.mean(features, axis=0)\n",
    "    std_devs = np.std(features, axis=0)\n",
    "    normalized_features = (features - means) / std_devs\n",
    "    return means, std_devs, normalized_features\n",
    "\n",
    "def recover_params(means, std_devs, norm_intercept, norm_params):\n",
    "    ''' \n",
    "    Recovers the weights for a linear model given parameters that were fitted using\n",
    "    normalized features. Takes the means and standard deviations of the original\n",
    "    features, along with the intercept and parameters computed using the normalized\n",
    "    features, and returns the intercept and parameters that correspond to the original\n",
    "    features.\n",
    "    ''' \n",
    "    intercept = norm_intercept - np.sum(means * norm_params / std_devs)\n",
    "    params = norm_params / std_devs\n",
    "    return intercept, params\n",
    "\n",
    "def linear_regression_ols(features, values):\n",
    "    \"\"\"\n",
    "    OLS\n",
    "    \"\"\"\n",
    "    features = sm.add_constant(features)\n",
    "    #Deals with multi-colinearity\n",
    "    features = independent_columns(features)\n",
    "    model = sm.OLS(values, features)\n",
    "    results = model.fit()\n",
    "    intercept = results.params[0]\n",
    "    params = results.params[1:]\n",
    "    print results.summary()\n",
    "    return model,results,intercept, params\n",
    "\n",
    "def linear_regression_sgd(features, values):\n",
    "    \"\"\"\n",
    "    SGD\n",
    "    \"\"\"\n",
    "    \n",
    "    clf = SGDRegressor(n_iter = 200)\n",
    "    clf.fit(features, values)\n",
    "    intercept = clf.intercept_\n",
    "    params = clf.coef_\n",
    "    return intercept, params\n",
    "\n",
    "\n",
    "#http://stackoverflow.com/q/13312498/190597\n",
    "def independent_columns(A, tol = 1e-05):\n",
    "    \"\"\"\n",
    "    To avoid remove columns causing multicollinearity warnings in OLS\n",
    "    Return an array composed of independent columns of A.\n",
    "    \"\"\"\n",
    "    Q, R = linalg.qr(A)\n",
    "    independent = np.where(np.abs(R.diagonal()) > tol)[0]\n",
    "    return A[:, independent]\n",
    "\n",
    "def predictions(dataframe):\n",
    "    dataframe['hour'] = dataframe['hour'].astype(str)\n",
    "    dataframe['weekday'] = dataframe['weekday'].astype(str)\n",
    "    features = dataframe[['rain']]#, 'precipi', 'fog','pressurei','tempi','wspdi'\n",
    "    dummy_units = pandas.get_dummies(dataframe[['UNIT','hour','weekday']], prefix='unit')#,'weekday','hour'\n",
    "    features = features.join(dummy_units)\n",
    "    # Values\n",
    "    values = dataframe['ENTRIESn_hourly']\n",
    "    \n",
    "    # Get numpy arrays\n",
    "    features_array = features.values\n",
    "    values_array = values.values\n",
    "    \n",
    "    means, std_devs, normalized_features_array = normalize_features(features_array)\n",
    "\n",
    "    # Perform gradient descent or ols\n",
    "    model,results,norm_intercept, norm_params = linear_regression_ols(normalized_features_array, values_array)\n",
    "    return model,results\n",
    "\n",
    "model,res = predictions(df)\n"
   ]
  },
  {
   "cell_type": "markdown",
   "metadata": {},
   "source": [
    "###Section 2. Linear Regression\n",
    "\n",
    "**What approach did you use to compute the coefficients theta and produce prediction for ENTRIESn_hourly in your regression model**:\n",
    "\n",
    "I tried both Gradient descent using Scikit Learn and OLS were tried. Because the OLS returns a thorough summary, including std err's for the intercept, t values, confidence intervals, and warnings with regards to multicolinearity, I will report the results below based on the OLS runs. \n",
    "\n",
    "*Note*: To deal with multicolinearity in the OLS model, I first normalized the features, and then selected columns who's eigenvalues were greater than some small epsilon (in other words, i selected the linearly independent columns of the feature matrix).\n",
    "\n",
    "\n",
    "**What features (input variables) did you use in your model? Did you use any dummy variables as part of your features?**\n",
    "\n",
    "I did use some dummy variables in my model. Here are all the selected features\n",
    "- rain (treated as numeric), UNIT (dummy), hour (dummy), weekday (dummy) \n",
    "Additionally, I added an intercept term in the OLS. \n",
    "    \n",
    "\n",
    "**Why did you select these features in your model? [Provide intuition or evidence]**\n",
    "\n",
    "*Rain*: I selected rain based on the descriptive statistics in problem 1. Although it's impact in the overall model has been minimal as far as influencing the R2, the intuition that ridership will increase during rain seems to be strong. Additionally, the descriptive statistics in question 1, combined with the Mann-Whitney U test that indicates the distributions of ridership under different rain conditions seemed to indicate some importance for this attribute.\n",
    "\n",
    "*UNIT*: I selected *UNIT* and built a model based on this feature alone, and obtained an R2 value of ~.40. Whenever *UNIT* was removed, the R2 fell quite low. So, it seems that much of the variance in ENTRIESn_hourly is explained by this attribute. This makes sense because UNIT is at some level, representative of the station. \n",
    "\n",
    "*hour*: Once again, from both an intuitive perspective and based on the impact of this feature on the R2 value, including *hour* made sense. Ridership would be much higher during rush hour, or commute times in general. Hence, including this attribute would help explain changes in ridership across different times of the day.\n",
    "\n",
    "*weekday*: Similar to my logic for *hour*, i added weekday because I think ridership is quite different on weekdays versus weekends. I believe both *hour* and *weekday* would explain some of the variation in ridership that is due to work/leisure habits (commutes, etc).\n",
    "\n",
    "**What are the parameters (also known as \"coefficients\" or \"weights\") of the non-dummy features in your linear regression model?**\n",
    "\n",
    "The weight of the OLS models' *intercept* is 1886.59, and the weight of the *rain* feature is 16.95.\n",
    "\n",
    "**What is your model’s R2 (coefficients of determination) value?\n",
    "\n",
    "The model's R2 is .54.\n",
    "\n",
    "**What does this R2 value mean for the goodness of fit for your regression model? Do you think this linear model to predict ridership is appropriate for this dataset, given this R2  value?**\n",
    "\n",
    "54% of the variation in the dependent variable ENTRIESn_hourly is explained by the independent variables (predictors). Based on some of the discussions in the Udacity boards (such as this one: https://discussions.udacity.com/t/project-1-linear-regression/23870/2), it seems that an R2>.4 is not bad. I think this linear model is alright, *given this dataset*.  However, there are definitely latent variables that not included in this regression. I did a residual analysis that demonstrates this: I plotted a histogram of the residuals (Shown 1 cell below), the differences between my actual value and the predicated value, and see that although the distribution of the residuals might seem normal at first glance, a closer look indicates that there are some rather long tails: large residuals. So, the residuals may not be normally distributed. I could've taken this a step further and performed a Shapiro-Wilks test on the residuals to solidfy this point. I did not do this, but I got a great recommendation to do a probability plot of the residuals (Shown 2 cells below) using scipy probplot (See **References** for link). The figure shows a plot of the residuals against the quantiles of a theorectical normal distribution. If the residuals followed normal distrbution, we would see the points fall closely to the line. However, it is clear that the existence of large residuals skews the points upward, and away from the line. In conclusion, although the R2 value is satisfactory, it does not tell the whole story. The analysis of the residuals indicates possibly a consistent source of bias in the errors, and perhaps the ommission of one or more important variables. "
   ]
  },
  {
   "cell_type": "code",
   "execution_count": 97,
   "metadata": {
    "collapsed": false
   },
   "outputs": [
    {
     "data": {
      "text/plain": [
       "<matplotlib.text.Text at 0x112853e90>"
      ]
     },
     "execution_count": 97,
     "metadata": {},
     "output_type": "execute_result"
    },
    {
     "data": {
      "image/png": "[encoded data removed]",
      "text/plain": [
       "<matplotlib.figure.Figure at 0x111dfd450>"
      ]
     },
     "metadata": {},
     "output_type": "display_data"
    }
   ],
   "source": [
    "#To help answer question 2.5 above\n",
    "from scipy.stats import probplot\n",
    "import matplotlib.pyplot as plt \n",
    "#Distribution of Residuals\n",
    "out = plt.hist(res.resid,bins=100)\n",
    "plt.xlabel(\"Residuals: Actual ENTRIESn_hourly - Predicted ENTRIESn_hourly\")\n",
    "plt.ylabel(\"Frequency\")\n",
    "plt.title(\"Histogram of OLS Model's Residuals\")"
   ]
  },
  {
   "cell_type": "code",
   "execution_count": 98,
   "metadata": {
    "collapsed": false
   },
   "outputs": [
    {
     "data": {
      "image/png": "[encoded data removed]",
      "text/plain": [
       "<matplotlib.figure.Figure at 0x1128abc10>"
      ]
     },
     "metadata": {},
     "output_type": "display_data"
    }
   ],
   "source": [
    "#To help answer question 2.5 above\n",
    "#Probplot of Residuals: http://docs.scipy.org/doc/scipy/reference/generated/scipy.stats.probplot.html\n",
    "probplot(res.resid,plot= plt)\n",
    "plt.show()"
   ]
  },
  {
   "cell_type": "markdown",
   "metadata": {
    "collapsed": true
   },
   "source": [
    "###Section 3. Visualization\n",
    "\n",
    "Please include two visualizations that show the relationships between two or more variables in the NYC subway data.\n",
    "Remember to add appropriate titles and axes labels to your plots. Also, please add a short description below each figure commenting on the key insights depicted in the figure.\n",
    "\n",
    "3.1 One visualization should contain two histograms: one of  ENTRIESn_hourly for rainy days and one of ENTRIESn_hourly for non-rainy days.\n",
    "You can combine the two histograms in a single plot or you can use two separate plots.\n",
    "If you decide to use to two separate plots for the two histograms, please ensure that the x-axis limits for both of the plots are identical. It is much easier to compare the two in that case.\n",
    "For the histograms, you should have intervals representing the volume of ridership (value of ENTRIESn_hourly) on the x-axis and the frequency of occurrence on the y-axis. For example, each interval (along the x-axis), the height of the bar for this interval will represent the number of records (rows in our data) that have ENTRIESn_hourly that falls in this interval.\n",
    "Remember to increase the number of bins in the histogram (by having larger number of bars). The default bin width is not sufficient to capture the variability in the two samples.\n",
    "\n",
    "3.2 One visualization can be more freeform. You should feel free to implement something that we discussed in class (e.g., scatter plots, line plots) or attempt to implement something more advanced if you'd like. Some suggestions are:\n",
    "Ridership by time-of-day\n",
    "Ridership by day-of-week"
   ]
  },
  {
   "cell_type": "code",
   "execution_count": 99,
   "metadata": {
    "collapsed": false
   },
   "outputs": [
    {
     "data": {
      "image/png": "[encoded data removed]",
      "text/plain": [
       "<matplotlib.figure.Figure at 0x1109ae190>"
      ]
     },
     "metadata": {},
     "output_type": "display_data"
    }
   ],
   "source": [
    "#3.1\n",
    "#Would've done this in ggplot. \n",
    "#But there is an issue with the latest version of pandas and ggplot: https://github.com/yhat/ggplot/issues/417\n",
    "import matplotlib.pyplot as plt \n",
    "bins = 100\n",
    "plt.figure()\n",
    "df[df.rain==0]['ENTRIESn_hourly'].hist(bins=bins) # No Rain => Blue\n",
    "df[df.rain==1]['ENTRIESn_hourly'].hist(bins=bins) # Rain => Green\n",
    "plt.xlim((0,10000))\n",
    "plt.xlabel(\"ENTRIESn_hourly (limited to (0,10000))\")\n",
    "plt.ylabel(\"Frequency\")\n",
    "plt.title(\"ENTRIESn_hourly Histogram by Rain\")\n",
    "plt.show()"
   ]
  },
  {
   "cell_type": "markdown",
   "metadata": {},
   "source": [
    "###3.1 Description:\n",
    "\n",
    "In the figure above, two histograms are shown regarding ridership when there's no rain (Blue), and where there is rain (Green). A max limit is set on the X-axis to 10000 (ENTRIESn_hourly < 10000) because both frequencies continue trending downward. There is no discernable increase in frequency as ridership increases. Both of these distributions are heavily right skewed, and look exponential."
   ]
  },
  {
   "cell_type": "code",
   "execution_count": 100,
   "metadata": {
    "collapsed": false
   },
   "outputs": [
    {
     "data": {
      "text/plain": [
       "<matplotlib.axes.AxesSubplot at 0x11099ec10>"
      ]
     },
     "execution_count": 100,
     "metadata": {},
     "output_type": "execute_result"
    },
    {
     "data": {
      "image/png": "[encoded data removed]",
      "text/plain": [
       "<matplotlib.figure.Figure at 0x114271910>"
      ]
     },
     "metadata": {},
     "output_type": "display_data"
    }
   ],
   "source": [
    "#3.2\n",
    "sql = \"\"\"\n",
    "select\n",
    "    hour,\n",
    "    avg(ENTRIESn_hourly) as avg_ENTRIESn_hourly\n",
    "from\n",
    "    df\n",
    "group by\n",
    "    hour\n",
    "\"\"\"\n",
    "sub = pandasql.sqldf(sql,locals())\n",
    "sub['hour'] = sub['hour'].astype(int)\n",
    "sub = sub.sort('hour',ascending=True)\n",
    "sub.plot(kind='bar',x='hour',y='avg_ENTRIESn_hourly',title='Average ENTRIESn_hour by Hour')\n",
    "#df.groupby('hour')"
   ]
  },
  {
   "cell_type": "markdown",
   "metadata": {},
   "source": [
    "###3.2 Description:\n",
    "In the figure above, we see a bar chart of the average ridership by the *hour* column. We see a local maximum at Midnight (0), followed by a global minimum in ridership at 4am, and two peaks around noon and 8pm (assuming datetimes are in Eastern Time - not specified in the turnstile schema pdf)."
   ]
  },
  {
   "cell_type": "markdown",
   "metadata": {
    "collapsed": false
   },
   "source": [
    "###Section 4. Conclusion\n",
    "\n",
    "**From your analysis and interpretation of the data, do more people ride the NYC subway when it is raining or when it is not raining? What analyses lead you to this conclusion? You should use results from both your statistical tests and your linear regression to support your analysis.**\n",
    "\n",
    "Given the analyses, I think that more people ride the NYC subway when it is raining. The descriptive stats indicate higher mean and median ridership during days that had rain. Additionally, the Mann Whitney U test tells us that the distributions of ridership on rain/not rain days are different. Therefore, based on the statistical analysis, the means are different with statistical significance and more people ride the NYC subway when it is raining.\n",
    "\n",
    "From the linear regression, we observe that the coefficient for the *rain* attribute in the OLS regression is 16.95. This indicates, that, all things equal, a 1 unit increase in *rain* (of course, this is a binary attribute, so what i mean by 1 unit increase is simply the different between rain = 0, and rain = 1) leads to a 16.95 increase in Ridership. So, there's a positive relationship between rain and ridership. When's its raining, there are more riders!\n",
    "\n",
    "\n",
    "\n"
   ]
  },
  {
   "cell_type": "markdown",
   "metadata": {
    "collapsed": true
   },
   "source": [
    "###Section 5. Reflection\n",
    "\n",
    "**Please discuss potential shortcomings of the methods of your analysis, including: Dataset, Analysis, such as the linear regression model or statistical test. Do you have any other insight about the dataset that you would like to share with us?**\n",
    "\n",
    "I could've used feature selection techniques such as SelectKBest to do more robust selection. Addtionally, the dataset only contains information about May 2011. It's possible that it simply rained more in this month. I would be curious to see if inclement weather of any kind leads to variation in ridership -- therefore, i would like to see more samples from different times of the year. Additionally, there was more than I could've done in terms of checking data quality/availability, and removing the top/bottom 1% of ridership days to see how impactful this would be on the mean. This makese sense to to do since the distributions are so exponential (although, the median was examined). As far as the linear regression model, I think that researching multicolinearity and looking into techniques to removed features that were linearly dependent upon other features was a good and useful exercise. However, i didn't identify exactly which features were removed (~3 columns were removed, i believe they are all dummy variables). An interesting technique I learned during this project is the Variance Inflation Factor (VIF- https://en.wikipedia.org/wiki/Variance_inflation_factor) which is a measure of the severity of the collinearity in a predictor by measuring how much of the predictor's regression coefficient's variance is amplified by the presence of collinear predictors. \n",
    "\n",
    "An insight about the technique, is that linear regression may not be a suitable model for this. My last grader gave me a really great visualization of a cyclic, non-linear pattern in the residuals that a linear model, even with the best features, may not be able to caputure (Please see figure in cell below). I would be curious to see what are some feasible approaches to non-linear regression. For example, would models like CART which use the non-linear classification capabilities of decicision trees with numerical prediction from regression be able to handle this problem?"
   ]
  },
  {
   "cell_type": "code",
   "execution_count": 101,
   "metadata": {
    "collapsed": false
   },
   "outputs": [
    {
     "data": {
      "image/png": "[encoded data removed]",
      "text/plain": [
       "<matplotlib.figure.Figure at 0x112df66d0>"
      ]
     },
     "metadata": {},
     "output_type": "display_data"
    }
   ],
   "source": [
    "import matplotlib.pyplot as plt\n",
    "plt.plot(df['ENTRIESn_hourly'].values - res.predict())\n",
    "plt.xlabel(\"Point\")\n",
    "plt.ylabel(\"Residual\")\n",
    "plt.title(\"Point-wise Residuals\")\n",
    "plt.show()"
   ]
  },
  {
   "cell_type": "markdown",
   "metadata": {},
   "source": [
    "###References:\n",
    "\n",
    "- Udacity Mann Whitney U test - https://storage.googleapis.com/supplemental_media/udacityu/4332539257/MannWhitneyUTest.pdf?GoogleAccessId=1069728276824-fdhtlb98k1m9qrmdgj4jgc7gjp2l1lsm@developer.gserviceaccount.com&Expires=1439017584&Signature=PEKwNCPwFcpQG5YB%2BMXRPedACpMeaguJ1CQN7UxVCE9SQQhPygZX1AjCqmJrx4nry2NC0Ki9jWvcWv4Bdg9btaV1nW6S9u3%2B881ZZgQEghyr1QduNGfLfAvlv9qYgsKYkS1SlJEgvgjdlSjuw/bCI64FAftGCuo1QXxs1r9y2mU%3D\n",
    "- Scipy prob plot - http://docs.scipy.org/doc/scipy/reference/generated/scipy.stats.probplot.html\n",
    "- Code to remove multicolinearity - http://stackoverflow.com/q/13312498/190597\n",
    "- Base code for normalizations, linear regression ols, and prediction - Udacity Intro to Data Science\n",
    "- Plotting Residuals: http://www.itl.nist.gov/div898/handbook/pri/section2/pri24.htm\n",
    "- Evaluating R2: https://discussions.udacity.com/t/project-1-linear-regression/23870/2\n",
    "- Variance Inflation Factor: https://en.wikipedia.org/wiki/Variance_inflation_factor"
   ]
  }
 ],
 "metadata": {
  "kernelspec": {
   "display_name": "Python 2",
   "language": "python",
   "name": "python2"
  },
  "language_info": {
   "codemirror_mode": {
    "name": "ipython",
    "version": 2
   },
   "file_extension": ".py",
   "mimetype": "text/x-python",
   "name": "python",
   "nbconvert_exporter": "python",
   "pygments_lexer": "ipython2",
   "version": "2.7.6"
  }
 },
 "nbformat": 4,
 "nbformat_minor": 0
}
